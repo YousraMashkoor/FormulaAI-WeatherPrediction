{
  "nbformat": 4,
  "nbformat_minor": 0,
  "metadata": {
    "colab": {
      "name": "DNN_Feature extraction.ipynb",
      "provenance": [],
      "collapsed_sections": []
    },
    "kernelspec": {
      "name": "python3",
      "display_name": "Python 3"
    },
    "language_info": {
      "name": "python"
    },
    "accelerator": "TPU"
  },
  "cells": [
    {
      "cell_type": "code",
      "execution_count": null,
      "metadata": {
        "id": "qf-9NUEgebyz"
      },
      "outputs": [],
      "source": [
        "import re\n",
        "\n",
        "from sklearn.model_selection import train_test_split\n",
        "from sklearn.metrics import classification_report, confusion_matrix, accuracy_score\n",
        "from sklearn.metrics import ConfusionMatrixDisplay"
      ]
    },
    {
      "cell_type": "code",
      "source": [
        "from google.colab import drive\n",
        "drive.mount('/content/gdrive')"
      ],
      "metadata": {
        "colab": {
          "base_uri": "https://localhost:8080/"
        },
        "id": "35YBCPNVedDY",
        "outputId": "bcf99666-7cb7-4fba-c562-669fcdd191aa"
      },
      "execution_count": null,
      "outputs": [
        {
          "output_type": "stream",
          "name": "stdout",
          "text": [
            "Mounted at /content/gdrive\n"
          ]
        }
      ]
    },
    {
      "cell_type": "code",
      "source": [
        "import numpy as np\n",
        "import pandas as pd\n",
        "df = pd.read_csv('/content/gdrive/MyDrive/weather.csv',error_bad_lines=False, index_col=False)"
      ],
      "metadata": {
        "colab": {
          "base_uri": "https://localhost:8080/"
        },
        "id": "Y4ozk6QRefkN",
        "outputId": "115da5fc-3c87-4e53-aa85-b292e1fa5d01"
      },
      "execution_count": null,
      "outputs": [
        {
          "output_type": "stream",
          "name": "stderr",
          "text": [
            "/usr/local/lib/python3.7/dist-packages/IPython/core/interactiveshell.py:2882: FutureWarning: The error_bad_lines argument has been deprecated and will be removed in a future version.\n",
            "\n",
            "\n",
            "  exec(code_obj, self.user_global_ns, self.user_ns)\n",
            "/usr/local/lib/python3.7/dist-packages/IPython/core/interactiveshell.py:2882: DtypeWarning: Columns (21) have mixed types.Specify dtype option on import or set low_memory=False.\n",
            "  exec(code_obj, self.user_global_ns, self.user_ns)\n"
          ]
        }
      ]
    },
    {
      "cell_type": "code",
      "source": [
        "!pip install AutoML"
      ],
      "metadata": {
        "colab": {
          "base_uri": "https://localhost:8080/",
          "height": 1000
        },
        "id": "hp7ce-BRfI8z",
        "outputId": "56ad0c81-69f9-4381-f54e-b1e9ee93d21a"
      },
      "execution_count": null,
      "outputs": [
        {
          "output_type": "stream",
          "name": "stdout",
          "text": [
            "Collecting AutoML\n",
            "  Downloading automl-2.9.9-py2.py3-none-any.whl (71 kB)\n",
            "\u001b[?25l\r\u001b[K     |████▋                           | 10 kB 14.5 MB/s eta 0:00:01\r\u001b[K     |█████████▏                      | 20 kB 18.8 MB/s eta 0:00:01\r\u001b[K     |█████████████▊                  | 30 kB 23.0 MB/s eta 0:00:01\r\u001b[K     |██████████████████▎             | 40 kB 26.0 MB/s eta 0:00:01\r\u001b[K     |██████████████████████▉         | 51 kB 24.3 MB/s eta 0:00:01\r\u001b[K     |███████████████████████████▍    | 61 kB 26.2 MB/s eta 0:00:01\r\u001b[K     |████████████████████████████████| 71 kB 27.6 MB/s eta 0:00:01\r\u001b[K     |████████████████████████████████| 71 kB 84 kB/s \n",
            "\u001b[?25hCollecting lightgbm<2.1,>=2.0.11\n",
            "  Downloading lightgbm-2.0.12-py2.py3-none-manylinux1_x86_64.whl (627 kB)\n",
            "\u001b[K     |████████████████████████████████| 627 kB 45.9 MB/s \n",
            "\u001b[?25hCollecting scikit-learn<1.0,>=0.18.1\n",
            "  Downloading scikit_learn-0.24.2-cp37-cp37m-manylinux2010_x86_64.whl (22.3 MB)\n",
            "\u001b[K     |████████████████████████████████| 22.3 MB 112.5 MB/s \n",
            "\u001b[?25hCollecting dill<0.3,>=0.2.5\n",
            "  Downloading dill-0.2.9.tar.gz (150 kB)\n",
            "\u001b[K     |████████████████████████████████| 150 kB 76.6 MB/s \n",
            "\u001b[?25hRequirement already satisfied: numpy<2.0,>=1.11.0 in /usr/local/lib/python3.7/dist-packages (from AutoML) (1.21.5)\n",
            "Requirement already satisfied: python-dateutil<3.0,>=2.6.1 in /usr/local/lib/python3.7/dist-packages (from AutoML) (2.8.2)\n",
            "Collecting pathos<0.3.0,>=0.2.1\n",
            "  Downloading pathos-0.2.8-py2.py3-none-any.whl (81 kB)\n",
            "\u001b[K     |████████████████████████████████| 81 kB 9.5 MB/s \n",
            "\u001b[?25hRequirement already satisfied: scipy<2.0,>=0.14.0 in /usr/local/lib/python3.7/dist-packages (from AutoML) (1.4.1)\n",
            "Collecting sklearn-deap2<0.3,>=0.2.1\n",
            "  Downloading sklearn-deap2-0.2.2.tar.gz (8.5 kB)\n",
            "Collecting pandas<1.0,>=0.18.0\n",
            "  Downloading pandas-0.25.3-cp37-cp37m-manylinux1_x86_64.whl (10.4 MB)\n",
            "\u001b[K     |████████████████████████████████| 10.4 MB 30.0 MB/s \n",
            "\u001b[?25hRequirement already satisfied: tabulate<1.0,>=0.7.5 in /usr/local/lib/python3.7/dist-packages (from AutoML) (0.8.9)\n",
            "Collecting h5py<3.0,>=2.7.0\n",
            "  Downloading h5py-2.10.0-cp37-cp37m-manylinux1_x86_64.whl (2.9 MB)\n",
            "\u001b[K     |████████████████████████████████| 2.9 MB 38.0 MB/s \n",
            "\u001b[?25hRequirement already satisfied: six in /usr/local/lib/python3.7/dist-packages (from h5py<3.0,>=2.7.0->AutoML) (1.15.0)\n",
            "Requirement already satisfied: pytz>=2017.2 in /usr/local/lib/python3.7/dist-packages (from pandas<1.0,>=0.18.0->AutoML) (2018.9)\n",
            "Collecting ppft>=1.6.6.4\n",
            "  Downloading ppft-1.6.6.4-py3-none-any.whl (65 kB)\n",
            "\u001b[K     |████████████████████████████████| 65 kB 1.7 MB/s \n",
            "\u001b[?25hRequirement already satisfied: multiprocess>=0.70.12 in /usr/local/lib/python3.7/dist-packages (from pathos<0.3.0,>=0.2.1->AutoML) (0.70.12.2)\n",
            "Collecting pathos<0.3.0,>=0.2.1\n",
            "  Downloading pathos-0.2.7-py2.py3-none-any.whl (81 kB)\n",
            "\u001b[K     |████████████████████████████████| 81 kB 4.6 MB/s \n",
            "\u001b[?25hCollecting pox>=0.2.9\n",
            "  Downloading pox-0.3.0-py2.py3-none-any.whl (30 kB)\n",
            "Collecting pathos<0.3.0,>=0.2.1\n",
            "  Downloading pathos-0.2.6.zip (219 kB)\n",
            "\u001b[K     |████████████████████████████████| 219 kB 46.1 MB/s \n",
            "\u001b[?25h  Downloading pathos-0.2.5.tar.gz (162 kB)\n",
            "\u001b[K     |████████████████████████████████| 162 kB 41.0 MB/s \n",
            "\u001b[?25h  Downloading pathos-0.2.4.tar.gz (162 kB)\n",
            "\u001b[K     |████████████████████████████████| 162 kB 49.4 MB/s \n",
            "\u001b[?25h  Downloading pathos-0.2.3.tar.gz (162 kB)\n",
            "\u001b[K     |████████████████████████████████| 162 kB 43.8 MB/s \n",
            "\u001b[?25hCollecting multiprocess>=0.70.7\n",
            "  Downloading multiprocess-0.70.12.1.zip (3.3 MB)\n",
            "\u001b[K     |████████████████████████████████| 3.3 MB 34.6 MB/s \n",
            "\u001b[?25h  Downloading multiprocess-0.70.12-py37-none-any.whl (112 kB)\n",
            "\u001b[K     |████████████████████████████████| 112 kB 41.8 MB/s \n",
            "\u001b[?25h  Downloading multiprocess-0.70.11.1-py37-none-any.whl (108 kB)\n",
            "\u001b[K     |████████████████████████████████| 108 kB 45.8 MB/s \n",
            "\u001b[?25h  Downloading multiprocess-0.70.11-py3-none-any.whl (98 kB)\n",
            "\u001b[K     |████████████████████████████████| 98 kB 7.5 MB/s \n",
            "\u001b[?25h  Downloading multiprocess-0.70.10.zip (2.4 MB)\n",
            "\u001b[K     |████████████████████████████████| 2.4 MB 38.2 MB/s \n",
            "\u001b[?25h  Downloading multiprocess-0.70.9.tar.gz (1.6 MB)\n",
            "\u001b[K     |████████████████████████████████| 1.6 MB 41.2 MB/s \n",
            "\u001b[?25h  Downloading multiprocess-0.70.8.tar.gz (1.6 MB)\n",
            "\u001b[K     |████████████████████████████████| 1.6 MB 30.7 MB/s \n",
            "\u001b[?25h  Downloading multiprocess-0.70.7.tar.gz (1.4 MB)\n",
            "\u001b[K     |████████████████████████████████| 1.4 MB 42.5 MB/s \n",
            "\u001b[?25hRequirement already satisfied: threadpoolctl>=2.0.0 in /usr/local/lib/python3.7/dist-packages (from scikit-learn<1.0,>=0.18.1->AutoML) (3.1.0)\n",
            "Requirement already satisfied: joblib>=0.11 in /usr/local/lib/python3.7/dist-packages (from scikit-learn<1.0,>=0.18.1->AutoML) (1.1.0)\n",
            "Collecting deap>=1.0.2\n",
            "  Downloading deap-1.3.1-cp37-cp37m-manylinux_2_5_x86_64.manylinux1_x86_64.manylinux_2_12_x86_64.manylinux2010_x86_64.whl (160 kB)\n",
            "\u001b[K     |████████████████████████████████| 160 kB 47.3 MB/s \n",
            "\u001b[?25hBuilding wheels for collected packages: dill, pathos, multiprocess, sklearn-deap2\n",
            "  Building wheel for dill (setup.py) ... \u001b[?25l\u001b[?25hdone\n",
            "  Created wheel for dill: filename=dill-0.2.9-py3-none-any.whl size=77420 sha256=214dd8bb0a6411b90bf854b358aca557debaeb7562a5e00f7d2c57beb1e97d92\n",
            "  Stored in directory: /root/.cache/pip/wheels/31/87/19/1fb8f037d75fdc0841c772ecdfd5fdf22f85300d25c73f66cb\n",
            "  Building wheel for pathos (setup.py) ... \u001b[?25l\u001b[?25hdone\n",
            "  Created wheel for pathos: filename=pathos-0.2.3-py3-none-any.whl size=77246 sha256=c3a41378810fe1b10bfa03ed69859bd5a9795e860afa46a114a6c2d02f9c7345\n",
            "  Stored in directory: /root/.cache/pip/wheels/68/08/7f/119374c5a0e13edf0ad9ab6da38638c014180e23bfd2658443\n",
            "  Building wheel for multiprocess (setup.py) ... \u001b[?25l\u001b[?25hdone\n",
            "  Created wheel for multiprocess: filename=multiprocess-0.70.7-cp37-cp37m-linux_x86_64.whl size=135508 sha256=286305896929ccb07b4d0a6a2efaf9166e2bc05b0a509234b2c5a52df1ced478\n",
            "  Stored in directory: /root/.cache/pip/wheels/75/88/ac/d3864c85bff60a7eef8a5a043fc41205329acd8df1938d9663\n",
            "  Building wheel for sklearn-deap2 (setup.py) ... \u001b[?25l\u001b[?25hdone\n",
            "  Created wheel for sklearn-deap2: filename=sklearn_deap2-0.2.2-py3-none-any.whl size=9063 sha256=fd90e40ac0e809966546b256e34b9bbb692123af27b5cfeefc1ac1f144a08e81\n",
            "  Stored in directory: /root/.cache/pip/wheels/6f/2f/95/2a4d6d0ffee746cb25f393a371643686140493d262659fbaf7\n",
            "Successfully built dill pathos multiprocess sklearn-deap2\n",
            "Installing collected packages: dill, scikit-learn, ppft, pox, multiprocess, deap, sklearn-deap2, pathos, pandas, lightgbm, h5py, AutoML\n",
            "  Attempting uninstall: dill\n",
            "    Found existing installation: dill 0.3.4\n",
            "    Uninstalling dill-0.3.4:\n",
            "      Successfully uninstalled dill-0.3.4\n",
            "  Attempting uninstall: scikit-learn\n",
            "    Found existing installation: scikit-learn 1.0.2\n",
            "    Uninstalling scikit-learn-1.0.2:\n",
            "      Successfully uninstalled scikit-learn-1.0.2\n",
            "  Attempting uninstall: multiprocess\n",
            "    Found existing installation: multiprocess 0.70.12.2\n",
            "    Uninstalling multiprocess-0.70.12.2:\n",
            "      Successfully uninstalled multiprocess-0.70.12.2\n",
            "  Attempting uninstall: pandas\n",
            "    Found existing installation: pandas 1.3.5\n",
            "    Uninstalling pandas-1.3.5:\n",
            "      Successfully uninstalled pandas-1.3.5\n",
            "  Attempting uninstall: lightgbm\n",
            "    Found existing installation: lightgbm 2.2.3\n",
            "    Uninstalling lightgbm-2.2.3:\n",
            "      Successfully uninstalled lightgbm-2.2.3\n",
            "  Attempting uninstall: h5py\n",
            "    Found existing installation: h5py 3.1.0\n",
            "    Uninstalling h5py-3.1.0:\n",
            "      Successfully uninstalled h5py-3.1.0\n",
            "\u001b[31mERROR: pip's dependency resolver does not currently take into account all the packages that are installed. This behaviour is the source of the following dependency conflicts.\n",
            "tensorflow 2.8.0 requires tf-estimator-nightly==2.8.0.dev2021122109, which is not installed.\n",
            "xarray 0.18.2 requires pandas>=1.0, but you have pandas 0.25.3 which is incompatible.\n",
            "google-colab 1.0.0 requires pandas>=1.1.0; python_version >= \"3.0\", but you have pandas 0.25.3 which is incompatible.\n",
            "fbprophet 0.7.1 requires pandas>=1.0.4, but you have pandas 0.25.3 which is incompatible.\u001b[0m\n",
            "Successfully installed AutoML-2.9.9 deap-1.3.1 dill-0.2.9 h5py-2.10.0 lightgbm-2.0.12 multiprocess-0.70.7 pandas-0.25.3 pathos-0.2.3 pox-0.3.0 ppft-1.6.6.4 scikit-learn-0.24.2 sklearn-deap2-0.2.2\n"
          ]
        },
        {
          "output_type": "display_data",
          "data": {
            "application/vnd.colab-display-data+json": {
              "pip_warning": {
                "packages": [
                  "pandas"
                ]
              }
            }
          },
          "metadata": {}
        }
      ]
    },
    {
      "cell_type": "code",
      "source": [
        "!pip install auto-sklearn"
      ],
      "metadata": {
        "colab": {
          "base_uri": "https://localhost:8080/",
          "height": 1000
        },
        "id": "yi5mBpYKfiri",
        "outputId": "f2b16e6b-d191-45b8-be5e-5fc3fc384eee"
      },
      "execution_count": null,
      "outputs": [
        {
          "output_type": "stream",
          "name": "stdout",
          "text": [
            "Collecting auto-sklearn\n",
            "  Downloading auto-sklearn-0.14.6.tar.gz (6.4 MB)\n",
            "\u001b[K     |████████████████████████████████| 6.4 MB 21.3 MB/s \n",
            "\u001b[?25hRequirement already satisfied: setuptools in /usr/local/lib/python3.7/dist-packages (from auto-sklearn) (57.4.0)\n",
            "Requirement already satisfied: typing_extensions in /usr/local/lib/python3.7/dist-packages (from auto-sklearn) (3.10.0.2)\n",
            "Collecting distro\n",
            "  Downloading distro-1.7.0-py3-none-any.whl (20 kB)\n",
            "Requirement already satisfied: numpy>=1.9.0 in /usr/local/lib/python3.7/dist-packages (from auto-sklearn) (1.21.5)\n",
            "Collecting scipy>=1.7.0\n",
            "  Downloading scipy-1.7.3-cp37-cp37m-manylinux_2_12_x86_64.manylinux2010_x86_64.whl (38.1 MB)\n",
            "\u001b[K     |████████████████████████████████| 38.1 MB 1.2 MB/s \n",
            "\u001b[?25hRequirement already satisfied: joblib in /usr/local/lib/python3.7/dist-packages (from auto-sklearn) (1.1.0)\n",
            "Requirement already satisfied: scikit-learn<0.25.0,>=0.24.0 in /usr/local/lib/python3.7/dist-packages (from auto-sklearn) (0.24.2)\n",
            "Collecting dask>=2021.12\n",
            "  Downloading dask-2022.2.0-py3-none-any.whl (1.1 MB)\n",
            "\u001b[K     |████████████████████████████████| 1.1 MB 34.7 MB/s \n",
            "\u001b[?25hCollecting distributed>=2012.12\n",
            "  Downloading distributed-2022.2.0-py3-none-any.whl (837 kB)\n",
            "\u001b[K     |████████████████████████████████| 837 kB 45.0 MB/s \n",
            "\u001b[?25hRequirement already satisfied: pyyaml in /usr/local/lib/python3.7/dist-packages (from auto-sklearn) (3.13)\n",
            "Collecting pandas>=1.0\n",
            "  Downloading pandas-1.3.5-cp37-cp37m-manylinux_2_17_x86_64.manylinux2014_x86_64.whl (11.3 MB)\n",
            "\u001b[K     |████████████████████████████████| 11.3 MB 63.0 MB/s \n",
            "\u001b[?25hCollecting liac-arff\n",
            "  Downloading liac-arff-2.5.0.tar.gz (13 kB)\n",
            "Requirement already satisfied: threadpoolctl in /usr/local/lib/python3.7/dist-packages (from auto-sklearn) (3.1.0)\n",
            "Collecting ConfigSpace<0.5,>=0.4.14\n",
            "  Downloading ConfigSpace-0.4.21-cp37-cp37m-manylinux_2_17_x86_64.manylinux2014_x86_64.whl (4.3 MB)\n",
            "\u001b[K     |████████████████████████████████| 4.3 MB 41.9 MB/s \n",
            "\u001b[?25hCollecting pynisher>=0.6.3\n",
            "  Downloading pynisher-0.6.4.tar.gz (11 kB)\n",
            "Collecting pyrfr<0.9,>=0.8.1\n",
            "  Downloading pyrfr-0.8.2-cp37-cp37m-manylinux2014_x86_64.whl (4.0 MB)\n",
            "\u001b[K     |████████████████████████████████| 4.0 MB 39.6 MB/s \n",
            "\u001b[?25hCollecting smac>=0.14\n",
            "  Downloading smac-1.2.tar.gz (260 kB)\n",
            "\u001b[K     |████████████████████████████████| 260 kB 51.5 MB/s \n",
            "\u001b[?25hRequirement already satisfied: cython in /usr/local/lib/python3.7/dist-packages (from ConfigSpace<0.5,>=0.4.14->auto-sklearn) (0.29.27)\n",
            "Requirement already satisfied: pyparsing in /usr/local/lib/python3.7/dist-packages (from ConfigSpace<0.5,>=0.4.14->auto-sklearn) (3.0.7)\n",
            "Collecting pyyaml\n",
            "  Downloading PyYAML-6.0-cp37-cp37m-manylinux_2_5_x86_64.manylinux1_x86_64.manylinux_2_12_x86_64.manylinux2010_x86_64.whl (596 kB)\n",
            "\u001b[K     |████████████████████████████████| 596 kB 50.7 MB/s \n",
            "\u001b[?25hRequirement already satisfied: packaging>=20.0 in /usr/local/lib/python3.7/dist-packages (from dask>=2021.12->auto-sklearn) (21.3)\n",
            "Collecting partd>=0.3.10\n",
            "  Downloading partd-1.2.0-py3-none-any.whl (19 kB)\n",
            "Requirement already satisfied: toolz>=0.8.2 in /usr/local/lib/python3.7/dist-packages (from dask>=2021.12->auto-sklearn) (0.11.2)\n",
            "Collecting fsspec>=0.6.0\n",
            "  Downloading fsspec-2022.1.0-py3-none-any.whl (133 kB)\n",
            "\u001b[K     |████████████████████████████████| 133 kB 56.5 MB/s \n",
            "\u001b[?25hRequirement already satisfied: cloudpickle>=1.1.1 in /usr/local/lib/python3.7/dist-packages (from dask>=2021.12->auto-sklearn) (1.3.0)\n",
            "Requirement already satisfied: click>=6.6 in /usr/local/lib/python3.7/dist-packages (from distributed>=2012.12->auto-sklearn) (7.1.2)\n",
            "Requirement already satisfied: tblib>=1.6.0 in /usr/local/lib/python3.7/dist-packages (from distributed>=2012.12->auto-sklearn) (1.7.0)\n",
            "Requirement already satisfied: jinja2 in /usr/local/lib/python3.7/dist-packages (from distributed>=2012.12->auto-sklearn) (2.11.3)\n",
            "Requirement already satisfied: tornado>=5 in /usr/local/lib/python3.7/dist-packages (from distributed>=2012.12->auto-sklearn) (5.1.1)\n",
            "Requirement already satisfied: psutil>=5.0 in /usr/local/lib/python3.7/dist-packages (from distributed>=2012.12->auto-sklearn) (5.4.8)\n",
            "Requirement already satisfied: sortedcontainers!=2.0.0,!=2.0.1 in /usr/local/lib/python3.7/dist-packages (from distributed>=2012.12->auto-sklearn) (2.4.0)\n",
            "Collecting cloudpickle>=1.1.1\n",
            "  Downloading cloudpickle-2.0.0-py3-none-any.whl (25 kB)\n",
            "Requirement already satisfied: zict>=0.1.3 in /usr/local/lib/python3.7/dist-packages (from distributed>=2012.12->auto-sklearn) (2.0.0)\n",
            "Requirement already satisfied: msgpack>=0.6.0 in /usr/local/lib/python3.7/dist-packages (from distributed>=2012.12->auto-sklearn) (1.0.3)\n",
            "Requirement already satisfied: python-dateutil>=2.7.3 in /usr/local/lib/python3.7/dist-packages (from pandas>=1.0->auto-sklearn) (2.8.2)\n",
            "Requirement already satisfied: pytz>=2017.3 in /usr/local/lib/python3.7/dist-packages (from pandas>=1.0->auto-sklearn) (2018.9)\n",
            "Collecting locket\n",
            "  Downloading locket-0.2.1-py2.py3-none-any.whl (4.1 kB)\n",
            "Requirement already satisfied: six>=1.5 in /usr/local/lib/python3.7/dist-packages (from python-dateutil>=2.7.3->pandas>=1.0->auto-sklearn) (1.15.0)\n",
            "Collecting emcee>=3.0.0\n",
            "  Downloading emcee-3.1.1-py2.py3-none-any.whl (45 kB)\n",
            "\u001b[K     |████████████████████████████████| 45 kB 3.6 MB/s \n",
            "\u001b[?25hRequirement already satisfied: heapdict in /usr/local/lib/python3.7/dist-packages (from zict>=0.1.3->distributed>=2012.12->auto-sklearn) (1.0.1)\n",
            "Requirement already satisfied: MarkupSafe>=0.23 in /usr/local/lib/python3.7/dist-packages (from jinja2->distributed>=2012.12->auto-sklearn) (2.0.1)\n",
            "Building wheels for collected packages: auto-sklearn, pynisher, smac, liac-arff\n",
            "  Building wheel for auto-sklearn (setup.py) ... \u001b[?25l\u001b[?25hdone\n",
            "  Created wheel for auto-sklearn: filename=auto_sklearn-0.14.6-py3-none-any.whl size=6602835 sha256=e1fba89c0704075f07fa75a592f989f6c3b424d4fd7558ac494295adfbb0b267\n",
            "  Stored in directory: /root/.cache/pip/wheels/6a/70/48/db9c00457f87a751083ca0d5c99bf34387dde818c705bd9800\n",
            "  Building wheel for pynisher (setup.py) ... \u001b[?25l\u001b[?25hdone\n",
            "  Created wheel for pynisher: filename=pynisher-0.6.4-py3-none-any.whl size=7043 sha256=2c7844a966380c18355ce194c7d1e3a0facdeba5ace762f7817a959f7eacf156\n",
            "  Stored in directory: /root/.cache/pip/wheels/42/71/95/7555ec3253e1ba8add72ae5febf1b015d297f3b73ba296d6f6\n",
            "  Building wheel for smac (setup.py) ... \u001b[?25l\u001b[?25hdone\n",
            "  Created wheel for smac: filename=smac-1.2-py3-none-any.whl size=215935 sha256=949c617216ec4ee00f84adee22580bdc946f0bff3cfd5b3fedabac83b252d313\n",
            "  Stored in directory: /root/.cache/pip/wheels/ad/95/67/6afc6b04d3715070c853d0a9d7c7b1fb822def38671dfbbb9f\n",
            "  Building wheel for liac-arff (setup.py) ... \u001b[?25l\u001b[?25hdone\n",
            "  Created wheel for liac-arff: filename=liac_arff-2.5.0-py3-none-any.whl size=11732 sha256=ca87b714fa3411d1b62d605ead738000d816673867ca6b69bd78539b8d4c441d\n",
            "  Stored in directory: /root/.cache/pip/wheels/1f/0f/15/332ca86cbebf25ddf98518caaf887945fbe1712b97a0f2493b\n",
            "Successfully built auto-sklearn pynisher smac liac-arff\n",
            "Installing collected packages: locket, pyyaml, partd, fsspec, cloudpickle, scipy, dask, pyrfr, pynisher, emcee, distributed, ConfigSpace, smac, pandas, liac-arff, distro, auto-sklearn\n",
            "  Attempting uninstall: pyyaml\n",
            "    Found existing installation: PyYAML 3.13\n",
            "    Uninstalling PyYAML-3.13:\n",
            "      Successfully uninstalled PyYAML-3.13\n",
            "  Attempting uninstall: cloudpickle\n",
            "    Found existing installation: cloudpickle 1.3.0\n",
            "    Uninstalling cloudpickle-1.3.0:\n",
            "      Successfully uninstalled cloudpickle-1.3.0\n",
            "  Attempting uninstall: scipy\n",
            "    Found existing installation: scipy 1.4.1\n",
            "    Uninstalling scipy-1.4.1:\n",
            "      Successfully uninstalled scipy-1.4.1\n",
            "  Attempting uninstall: dask\n",
            "    Found existing installation: dask 2.12.0\n",
            "    Uninstalling dask-2.12.0:\n",
            "      Successfully uninstalled dask-2.12.0\n",
            "  Attempting uninstall: distributed\n",
            "    Found existing installation: distributed 1.25.3\n",
            "    Uninstalling distributed-1.25.3:\n",
            "      Successfully uninstalled distributed-1.25.3\n",
            "  Attempting uninstall: pandas\n",
            "    Found existing installation: pandas 0.25.3\n",
            "    Uninstalling pandas-0.25.3:\n",
            "      Successfully uninstalled pandas-0.25.3\n",
            "\u001b[31mERROR: pip's dependency resolver does not currently take into account all the packages that are installed. This behaviour is the source of the following dependency conflicts.\n",
            "gym 0.17.3 requires cloudpickle<1.7.0,>=1.2.0, but you have cloudpickle 2.0.0 which is incompatible.\n",
            "automl 2.9.9 requires pandas<1.0,>=0.18.0, but you have pandas 1.3.5 which is incompatible.\n",
            "albumentations 0.1.12 requires imgaug<0.2.7,>=0.2.5, but you have imgaug 0.2.9 which is incompatible.\u001b[0m\n",
            "Successfully installed ConfigSpace-0.4.21 auto-sklearn-0.14.6 cloudpickle-2.0.0 dask-2022.2.0 distributed-2022.2.0 distro-1.7.0 emcee-3.1.1 fsspec-2022.1.0 liac-arff-2.5.0 locket-0.2.1 pandas-1.3.5 partd-1.2.0 pynisher-0.6.4 pyrfr-0.8.2 pyyaml-6.0 scipy-1.7.3 smac-1.2\n"
          ]
        },
        {
          "output_type": "display_data",
          "data": {
            "application/vnd.colab-display-data+json": {
              "pip_warning": {
                "packages": [
                  "pandas"
                ]
              }
            }
          },
          "metadata": {}
        }
      ]
    },
    {
      "cell_type": "code",
      "source": [
        "import keras\n",
        "import tensorflow\n",
        "from keras.models import Sequential\n",
        "from keras.layers import Dense, Dropout, Activation\n",
        "from keras.callbacks import ModelCheckpoint\n",
        "import keras\n",
        "from keras.callbacks import ReduceLROnPlateau\n",
        "from keras.models import Sequential\n",
        "from keras.layers import Dense, Conv1D, MaxPooling1D, Flatten, Dropout, BatchNormalization ,Activation\n",
        "#from tensorflow.keras.utils import np_utils, to_categorical\n",
        "#utils.to_categorical\n",
        "from tensorflow.keras import utils\n",
        "from keras.callbacks import ModelCheckpoint"
      ],
      "metadata": {
        "id": "ab2lVXy9idYE"
      },
      "execution_count": null,
      "outputs": []
    },
    {
      "cell_type": "code",
      "source": [
        "df=df.drop('Unnamed: 58',axis=1)\n",
        "df=df.drop('GAMEHOST',axis=1)"
      ],
      "metadata": {
        "id": "DGBXQhgMkSYz"
      },
      "execution_count": null,
      "outputs": []
    },
    {
      "cell_type": "code",
      "source": [
        "pd.to_datetime(df['TIMESTAMP'], unit='ms')"
      ],
      "metadata": {
        "colab": {
          "base_uri": "https://localhost:8080/"
        },
        "id": "7V37nHzHkWQw",
        "outputId": "3f1759a7-1050-4466-f16f-d933db51c815"
      },
      "execution_count": null,
      "outputs": [
        {
          "output_type": "execute_result",
          "data": {
            "text/plain": [
              "0         1970-01-20 00:12:41.520\n",
              "1         1970-01-20 00:12:41.520\n",
              "2         1970-01-20 00:12:41.520\n",
              "3         1970-01-20 00:12:41.520\n",
              "4         1970-01-20 00:12:41.520\n",
              "                    ...          \n",
              "3572323   1970-01-20 00:11:28.491\n",
              "3572324   1970-01-20 00:11:28.491\n",
              "3572325   1970-01-20 00:11:28.491\n",
              "3572326   1970-01-20 00:11:28.491\n",
              "3572327   1970-01-20 00:11:28.491\n",
              "Name: TIMESTAMP, Length: 3572328, dtype: datetime64[ns]"
            ]
          },
          "metadata": {},
          "execution_count": 6
        }
      ]
    },
    {
      "cell_type": "code",
      "source": [
        "# Assigning X and Y \n",
        "X=df.iloc[:,df.columns!='M_WEATHER']\n",
        "y=df.iloc[:,df.columns=='M_WEATHER']\n",
        "X=df.iloc[:,df.columns!='TIMESTAMP']\n"
      ],
      "metadata": {
        "id": "KP7CjwoSkZxG"
      },
      "execution_count": null,
      "outputs": []
    },
    {
      "cell_type": "code",
      "source": [
        "from sklearn.model_selection import train_test_split, cross_val_predict\n",
        "X_train, X_test, y_train, y_test = train_test_split(X, y, test_size=0.2)"
      ],
      "metadata": {
        "id": "Umqt8stvkcur"
      },
      "execution_count": null,
      "outputs": []
    },
    {
      "cell_type": "code",
      "source": [
        "print(\"Shape of x_train: \", X_train.shape)\n",
        "print(\"Shape of x_valid: \", X_test.shape)\n",
        "print(\"Shape of y_train: \", y_train.shape)\n",
        "print(\"Shape of y_valid: \", y_test.shape)"
      ],
      "metadata": {
        "colab": {
          "base_uri": "https://localhost:8080/"
        },
        "id": "lvuUujEcklGw",
        "outputId": "317f6668-abf1-49bc-ecfa-20b81cab19de"
      },
      "execution_count": null,
      "outputs": [
        {
          "output_type": "stream",
          "name": "stdout",
          "text": [
            "Shape of x_train:  (2857862, 56)\n",
            "Shape of x_valid:  (714466, 56)\n",
            "Shape of y_train:  (2857862, 1)\n",
            "Shape of y_valid:  (714466, 1)\n"
          ]
        }
      ]
    },
    {
      "cell_type": "code",
      "source": [
        "model = Sequential()\n",
        "model.add(Dense(32, activation = 'relu', input_shape = (X_train.shape[1], )))\n",
        "\n",
        "model.add(Dense(32, activation='relu'))\n",
        "\n",
        "model.add(Dense(8, activation='relu')) \n",
        "model.add(Dense(4, activation='relu')) \n",
        "model.add(Dense(3, activation='relu'))\n",
        "model.add(Dense(1, activation='sigmoid')) \n",
        "model.summary()"
      ],
      "metadata": {
        "colab": {
          "base_uri": "https://localhost:8080/"
        },
        "id": "EExEN_9ckPS1",
        "outputId": "f7e8013d-3e5f-4ddd-9edf-884b4f619472"
      },
      "execution_count": null,
      "outputs": [
        {
          "output_type": "stream",
          "name": "stdout",
          "text": [
            "Model: \"sequential\"\n",
            "_________________________________________________________________\n",
            " Layer (type)                Output Shape              Param #   \n",
            "=================================================================\n",
            " dense (Dense)               (None, 32)                1824      \n",
            "                                                                 \n",
            " dense_1 (Dense)             (None, 32)                1056      \n",
            "                                                                 \n",
            " dense_2 (Dense)             (None, 8)                 264       \n",
            "                                                                 \n",
            " dense_3 (Dense)             (None, 4)                 36        \n",
            "                                                                 \n",
            " dense_4 (Dense)             (None, 3)                 15        \n",
            "                                                                 \n",
            " dense_5 (Dense)             (None, 1)                 4         \n",
            "                                                                 \n",
            "=================================================================\n",
            "Total params: 3,199\n",
            "Trainable params: 3,199\n",
            "Non-trainable params: 0\n",
            "_________________________________________________________________\n"
          ]
        }
      ]
    },
    {
      "cell_type": "code",
      "source": [
        "import tensorflow as tf\n",
        "opt = tf.keras.optimizers.Adam(lr=0.0001)\n",
        "model.compile(optimizer= opt ,loss='binary_crossentropy',metrics=['acc'])"
      ],
      "metadata": {
        "colab": {
          "base_uri": "https://localhost:8080/"
        },
        "id": "yQwGCICtkyeu",
        "outputId": "13420870-aa29-4d74-99a5-5f435eeb11ad"
      },
      "execution_count": null,
      "outputs": [
        {
          "output_type": "stream",
          "name": "stderr",
          "text": [
            "/usr/local/lib/python3.7/dist-packages/keras/optimizer_v2/adam.py:105: UserWarning: The `lr` argument is deprecated, use `learning_rate` instead.\n",
            "  super(Adam, self).__init__(name, **kwargs)\n"
          ]
        }
      ]
    },
    {
      "cell_type": "code",
      "source": [
        "history=model.fit(X_train, y_train, batch_size=256, epochs=7, validation_data=(X_test, y_test))"
      ],
      "metadata": {
        "colab": {
          "base_uri": "https://localhost:8080/"
        },
        "id": "q8qdTHTMk1bI",
        "outputId": "78bf2f88-a81e-4ff6-994f-55b5446ed205"
      },
      "execution_count": null,
      "outputs": [
        {
          "output_type": "stream",
          "name": "stdout",
          "text": [
            "Epoch 1/7\n",
            "11164/11164 [==============================] - 40s 3ms/step - loss: nan - acc: 0.7459 - val_loss: nan - val_acc: 0.7456\n",
            "Epoch 2/7\n",
            "11164/11164 [==============================] - 39s 3ms/step - loss: nan - acc: 0.7459 - val_loss: nan - val_acc: 0.7456\n",
            "Epoch 3/7\n",
            "11164/11164 [==============================] - 40s 4ms/step - loss: nan - acc: 0.7459 - val_loss: nan - val_acc: 0.7456\n",
            "Epoch 4/7\n",
            "11164/11164 [==============================] - 39s 3ms/step - loss: nan - acc: 0.7459 - val_loss: nan - val_acc: 0.7456\n",
            "Epoch 5/7\n",
            "11164/11164 [==============================] - 37s 3ms/step - loss: nan - acc: 0.7459 - val_loss: nan - val_acc: 0.7456\n",
            "Epoch 6/7\n",
            "11164/11164 [==============================] - 37s 3ms/step - loss: nan - acc: 0.7459 - val_loss: nan - val_acc: 0.7456\n",
            "Epoch 7/7\n",
            "11164/11164 [==============================] - 36s 3ms/step - loss: nan - acc: 0.7459 - val_loss: nan - val_acc: 0.7456\n"
          ]
        }
      ]
    },
    {
      "cell_type": "code",
      "source": [
        "import matplotlib.pyplot as plt"
      ],
      "metadata": {
        "id": "6JrjvRQnlfe4"
      },
      "execution_count": null,
      "outputs": []
    },
    {
      "cell_type": "code",
      "source": [
        "# plot the training artifacts\n",
        "plt.plot(history.history['acc'])\n",
        "plt.plot(history.history['val_acc'])\n",
        "plt.title('Model accuracy')\n",
        "plt.ylabel('accuracy')\n",
        "plt.xlabel('epoch')\n",
        "plt.legend(['train_acc','val_acc'], loc = 'upper right')\n",
        "plt.show()"
      ],
      "metadata": {
        "colab": {
          "base_uri": "https://localhost:8080/",
          "height": 295
        },
        "id": "Bcwvh0KblVi0",
        "outputId": "d6bd649b-391c-4ecb-bba0-e605e5e389fe"
      },
      "execution_count": null,
      "outputs": [
        {
          "output_type": "display_data",
          "data": {
            "image/png": "[encoded data removed]",
            "text/plain": [
              "<Figure size 432x288 with 1 Axes>"
            ]
          },
          "metadata": {
            "needs_background": "light"
          }
        }
      ]
    },
    {
      "cell_type": "code",
      "source": [
        "# predicting on test data.\n",
        "pred_test = model.predict(X_test)\n"
      ],
      "metadata": {
        "id": "usiSpYnkllMU"
      },
      "execution_count": null,
      "outputs": []
    },
    {
      "cell_type": "code",
      "source": [
        "def view_result(array):\n",
        "    array = np.array(array)\n",
        "    for i in range(len(array)):\n",
        "        if array[i] == 0:\n",
        "            print(\"Weather is clear\")\n",
        "        elif array[i] == 1:\n",
        "          print(\"Weather is light cloud\")\n",
        "        elif array[i]==2:\n",
        "           print(\"Weather is Overcast\")\n",
        "        elif array[i]==3:\n",
        "           print(\"Light rain\")\n",
        "        elif array[i]==4:\n",
        "           print(\"Heavyrain\")\n",
        "        else:\n",
        "           print(\"Weather is Overcast\")\n",
        "\n",
        "          \n",
        "\n",
        "           "
      ],
      "metadata": {
        "id": "AfKhngdslrvD"
      },
      "execution_count": null,
      "outputs": []
    },
    {
      "cell_type": "code",
      "source": [
        "view_result(pred_test[:5])"
      ],
      "metadata": {
        "colab": {
          "base_uri": "https://localhost:8080/"
        },
        "id": "KC-Ety86lqIH",
        "outputId": "6b25cd3d-4140-494f-ec92-daa512369acd"
      },
      "execution_count": null,
      "outputs": [
        {
          "output_type": "stream",
          "name": "stdout",
          "text": [
            "Weather is Overcast\n",
            "Weather is Overcast\n",
            "Weather is Overcast\n",
            "Weather is Overcast\n",
            "Weather is Overcast\n"
          ]
        }
      ]
    }
  ]
}