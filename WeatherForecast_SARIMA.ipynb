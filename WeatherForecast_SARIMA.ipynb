{
  "cells": [
    {
      "cell_type": "markdown",
      "metadata": {},
      "source": [
        "# SARIMA Model for Forecasting:"
      ]
    },
    {
      "cell_type": "markdown",
      "metadata": {
        "id": "I6FiNLeAgH0H"
      },
      "source": [
        "Rain Forecast done to SARIMA model.\n",
        "This notebook describes forecasting using time series models in statsmodels.\n",
        "Note: this notebook applies only to the state space model classes, which are:\n",
        "\n",
        "sm.tsa.SARIMAX\n",
        "\n",
        "sm.tsa.UnobservedComponents\n",
        "\n",
        "sm.tsa.VARMAX\n",
        "\n",
        "sm.tsa.DynamicFactor"
      ]
    },
    {
      "cell_type": "code",
      "execution_count": null,
      "metadata": {
        "id": "Q5gOoW84fVf4"
      },
      "outputs": [],
      "source": [
        "import re\n",
        "\n",
        "from sklearn.model_selection import train_test_split\n",
        "from sklearn.metrics import classification_report, confusion_matrix, accuracy_score\n",
        "from sklearn.metrics import ConfusionMatrixDisplay"
      ]
    },
    {
      "cell_type": "code",
      "execution_count": null,
      "metadata": {
        "colab": {
          "base_uri": "https://localhost:8080/"
        },
        "id": "hW0tXNF0fd3C",
        "outputId": "7b6eb4af-17ab-4c23-eab2-5e2fca06bfe2"
      },
      "outputs": [
        {
          "name": "stdout",
          "output_type": "stream",
          "text": [
            "Drive already mounted at /content/gdrive; to attempt to forcibly remount, call drive.mount(\"/content/gdrive\", force_remount=True).\n"
          ]
        }
      ],
      "source": [
        "from google.colab import drive\n",
        "drive.mount('/content/gdrive')"
      ]
    },
    {
      "cell_type": "code",
      "execution_count": null,
      "metadata": {
        "id": "6J2Em-vrfgDz"
      },
      "outputs": [],
      "source": [
        "import numpy as np\n",
        "import pandas as pd\n",
        "df = pd.read_csv('/content/gdrive/MyDrive/weatherpreprocess.csv')"
      ]
    },
    {
      "cell_type": "code",
      "execution_count": null,
      "metadata": {
        "id": "Dg5rgz94fj2y"
      },
      "outputs": [],
      "source": [
        "Arim_df=df[['TIMESTAMP','M_RAIN_PERCENTAGE']]"
      ]
    },
    {
      "cell_type": "code",
      "execution_count": null,
      "metadata": {
        "colab": {
          "base_uri": "https://localhost:8080/",
          "height": 423
        },
        "id": "nyumxEW1f3pM",
        "outputId": "491027f0-d31b-49b0-93fa-6175f6146fba"
      },
      "outputs": [
        {
          "data": {
            "text/html": [
              "\n",
              "  <div id=\"df-2f9f54ed-c930-450e-bad1-0d47cc58678e\">\n",
              "    <div class=\"colab-df-container\">\n",
              "      <div>\n",
              "<style scoped>\n",
              "    .dataframe tbody tr th:only-of-type {\n",
              "        vertical-align: middle;\n",
              "    }\n",
              "\n",
              "    .dataframe tbody tr th {\n",
              "        vertical-align: top;\n",
              "    }\n",
              "\n",
              "    .dataframe thead th {\n",
              "        text-align: right;\n",
              "    }\n",
              "</style>\n",
              "<table border=\"1\" class=\"dataframe\">\n",
              "  <thead>\n",
              "    <tr style=\"text-align: right;\">\n",
              "      <th></th>\n",
              "      <th>TIMESTAMP</th>\n",
              "      <th>M_RAIN_PERCENTAGE</th>\n",
              "    </tr>\n",
              "  </thead>\n",
              "  <tbody>\n",
              "    <tr>\n",
              "      <th>0</th>\n",
              "      <td>1970-01-20 00:12:41.520</td>\n",
              "      <td>1.147212</td>\n",
              "    </tr>\n",
              "    <tr>\n",
              "      <th>1</th>\n",
              "      <td>1970-01-20 00:12:41.520</td>\n",
              "      <td>1.147212</td>\n",
              "    </tr>\n",
              "    <tr>\n",
              "      <th>2</th>\n",
              "      <td>1970-01-20 00:12:41.520</td>\n",
              "      <td>1.147212</td>\n",
              "    </tr>\n",
              "    <tr>\n",
              "      <th>3</th>\n",
              "      <td>1970-01-20 00:12:41.520</td>\n",
              "      <td>1.147212</td>\n",
              "    </tr>\n",
              "    <tr>\n",
              "      <th>4</th>\n",
              "      <td>1970-01-20 00:12:41.520</td>\n",
              "      <td>1.147212</td>\n",
              "    </tr>\n",
              "    <tr>\n",
              "      <th>...</th>\n",
              "      <td>...</td>\n",
              "      <td>...</td>\n",
              "    </tr>\n",
              "    <tr>\n",
              "      <th>3572323</th>\n",
              "      <td>1970-01-20 00:11:28.491</td>\n",
              "      <td>0.000000</td>\n",
              "    </tr>\n",
              "    <tr>\n",
              "      <th>3572324</th>\n",
              "      <td>1970-01-20 00:11:28.491</td>\n",
              "      <td>0.000000</td>\n",
              "    </tr>\n",
              "    <tr>\n",
              "      <th>3572325</th>\n",
              "      <td>1970-01-20 00:11:28.491</td>\n",
              "      <td>0.000000</td>\n",
              "    </tr>\n",
              "    <tr>\n",
              "      <th>3572326</th>\n",
              "      <td>1970-01-20 00:11:28.491</td>\n",
              "      <td>0.000000</td>\n",
              "    </tr>\n",
              "    <tr>\n",
              "      <th>3572327</th>\n",
              "      <td>1970-01-20 00:11:28.491</td>\n",
              "      <td>0.000000</td>\n",
              "    </tr>\n",
              "  </tbody>\n",
              "</table>\n",
              "<p>3572328 rows × 2 columns</p>\n",
              "</div>\n",
              "      <button class=\"colab-df-convert\" onclick=\"convertToInteractive('df-2f9f54ed-c930-450e-bad1-0d47cc58678e')\"\n",
              "              title=\"Convert this dataframe to an interactive table.\"\n",
              "              style=\"display:none;\">\n",
              "        \n",
              "  <svg xmlns=\"http://www.w3.org/2000/svg\" height=\"24px\"viewBox=\"0 0 24 24\"\n",
              "       width=\"24px\">\n",
              "    <path d=\"M0 0h24v24H0V0z\" fill=\"none\"/>\n",
              "    <path d=\"M18.56 5.44l.94 2.06.94-2.06 2.06-.94-2.06-.94-.94-2.06-.94 2.06-2.06.94zm-11 1L8.5 8.5l.94-2.06 2.06-.94-2.06-.94L8.5 2.5l-.94 2.06-2.06.94zm10 10l.94 2.06.94-2.06 2.06-.94-2.06-.94-.94-2.06-.94 2.06-2.06.94z\"/><path d=\"M17.41 7.96l-1.37-1.37c-.4-.4-.92-.59-1.43-.59-.52 0-1.04.2-1.43.59L10.3 9.45l-7.72 7.72c-.78.78-.78 2.05 0 2.83L4 21.41c.39.39.9.59 1.41.59.51 0 1.02-.2 1.41-.59l7.78-7.78 2.81-2.81c.8-.78.8-2.07 0-2.86zM5.41 20L4 18.59l7.72-7.72 1.47 1.35L5.41 20z\"/>\n",
              "  </svg>\n",
              "      </button>\n",
              "      \n",
              "  <style>\n",
              "    .colab-df-container {\n",
              "      display:flex;\n",
              "      flex-wrap:wrap;\n",
              "      gap: 12px;\n",
              "    }\n",
              "\n",
              "    .colab-df-convert {\n",
              "      background-color: #E8F0FE;\n",
              "      border: none;\n",
              "      border-radius: 50%;\n",
              "      cursor: pointer;\n",
              "      display: none;\n",
              "      fill: #1967D2;\n",
              "      height: 32px;\n",
              "      padding: 0 0 0 0;\n",
              "      width: 32px;\n",
              "    }\n",
              "\n",
              "    .colab-df-convert:hover {\n",
              "      background-color: #E2EBFA;\n",
              "      box-shadow: 0px 1px 2px rgba(60, 64, 67, 0.3), 0px 1px 3px 1px rgba(60, 64, 67, 0.15);\n",
              "      fill: #174EA6;\n",
              "    }\n",
              "\n",
              "    [theme=dark] .colab-df-convert {\n",
              "      background-color: #3B4455;\n",
              "      fill: #D2E3FC;\n",
              "    }\n",
              "\n",
              "    [theme=dark] .colab-df-convert:hover {\n",
              "      background-color: #434B5C;\n",
              "      box-shadow: 0px 1px 3px 1px rgba(0, 0, 0, 0.15);\n",
              "      filter: drop-shadow(0px 1px 2px rgba(0, 0, 0, 0.3));\n",
              "      fill: #FFFFFF;\n",
              "    }\n",
              "  </style>\n",
              "\n",
              "      <script>\n",
              "        const buttonEl =\n",
              "          document.querySelector('#df-2f9f54ed-c930-450e-bad1-0d47cc58678e button.colab-df-convert');\n",
              "        buttonEl.style.display =\n",
              "          google.colab.kernel.accessAllowed ? 'block' : 'none';\n",
              "\n",
              "        async function convertToInteractive(key) {\n",
              "          const element = document.querySelector('#df-2f9f54ed-c930-450e-bad1-0d47cc58678e');\n",
              "          const dataTable =\n",
              "            await google.colab.kernel.invokeFunction('convertToInteractive',\n",
              "                                                     [key], {});\n",
              "          if (!dataTable) return;\n",
              "\n",
              "          const docLinkHtml = 'Like what you see? Visit the ' +\n",
              "            '<a target=\"_blank\" href=https://colab.research.google.com/notebooks/data_table.ipynb>data table notebook</a>'\n",
              "            + ' to learn more about interactive tables.';\n",
              "          element.innerHTML = '';\n",
              "          dataTable['output_type'] = 'display_data';\n",
              "          await google.colab.output.renderOutput(dataTable, element);\n",
              "          const docLink = document.createElement('div');\n",
              "          docLink.innerHTML = docLinkHtml;\n",
              "          element.appendChild(docLink);\n",
              "        }\n",
              "      </script>\n",
              "    </div>\n",
              "  </div>\n",
              "  "
            ],
            "text/plain": [
              "                       TIMESTAMP  M_RAIN_PERCENTAGE\n",
              "0        1970-01-20 00:12:41.520           1.147212\n",
              "1        1970-01-20 00:12:41.520           1.147212\n",
              "2        1970-01-20 00:12:41.520           1.147212\n",
              "3        1970-01-20 00:12:41.520           1.147212\n",
              "4        1970-01-20 00:12:41.520           1.147212\n",
              "...                          ...                ...\n",
              "3572323  1970-01-20 00:11:28.491           0.000000\n",
              "3572324  1970-01-20 00:11:28.491           0.000000\n",
              "3572325  1970-01-20 00:11:28.491           0.000000\n",
              "3572326  1970-01-20 00:11:28.491           0.000000\n",
              "3572327  1970-01-20 00:11:28.491           0.000000\n",
              "\n",
              "[3572328 rows x 2 columns]"
            ]
          },
          "execution_count": 5,
          "metadata": {},
          "output_type": "execute_result"
        }
      ],
      "source": [
        "Arim_df"
      ]
    },
    {
      "cell_type": "code",
      "execution_count": null,
      "metadata": {
        "id": "bwAL5VowiQTy"
      },
      "outputs": [],
      "source": [
        "Arim_df.set_index('TIMESTAMP',inplace=True)"
      ]
    },
    {
      "cell_type": "markdown",
      "metadata": {
        "id": "gYdTO9vLgxrL"
      },
      "source": [
        "A simple example is to use an AR(1) model to forecast inflation. Before forecasting, let’s take a look at the series:"
      ]
    },
    {
      "cell_type": "code",
      "execution_count": null,
      "metadata": {
        "colab": {
          "base_uri": "https://localhost:8080/",
          "height": 386
        },
        "id": "F10RYdRNfsoN",
        "outputId": "255722b3-e725-4e20-8b7b-2166f60b2c72"
      },
      "outputs": [
        {
          "name": "stderr",
          "output_type": "stream",
          "text": [
            "/usr/local/lib/python3.7/dist-packages/statsmodels/tools/_testing.py:19: FutureWarning: pandas.util.testing is deprecated. Use the functions in the public API at pandas.testing instead.\n",
            "  import pandas.util.testing as tm\n"
          ]
        },
        {
          "data": {
            "text/plain": [
              "<matplotlib.axes._subplots.AxesSubplot at 0x7fe3a22bab10>"
            ]
          },
          "execution_count": 7,
          "metadata": {},
          "output_type": "execute_result"
        },
        {
          "data": {
            "image/png": "[encoded data removed]",
            "text/plain": [
              "<Figure size 1080x360 with 1 Axes>"
            ]
          },
          "metadata": {
            "needs_background": "light"
          },
          "output_type": "display_data"
        }
      ],
      "source": [
        "%matplotlib inline\n",
        "\n",
        "import numpy as np\n",
        "import pandas as pd\n",
        "import statsmodels.api as sm\n",
        "import matplotlib.pyplot as plt\n",
        "\n",
        "\n",
        "endog = Arim_df['M_RAIN_PERCENTAGE']\n",
        "endog.plot(figsize=(15, 5))"
      ]
    },
    {
      "cell_type": "markdown",
      "metadata": {
        "id": "dzbw8b8xg1Fr"
      },
      "source": [
        "**Constructing and estimating the model**\n",
        "The next step is to formulate the econometric model that we want to use for forecasting. In this case, we will use an AR(1) model via the SARIMAX class in statsmodels.\n",
        "\n",
        "After constructing the model, we need to estimate its parameters. This is done using the fit method. The summary method produces several convenient tables showing the results."
      ]
    },
    {
      "cell_type": "code",
      "execution_count": null,
      "metadata": {
        "colab": {
          "base_uri": "https://localhost:8080/"
        },
        "id": "R7ZCaZRshUGr",
        "outputId": "ad676db7-6167-4b71-bf66-55c2f20c51f6"
      },
      "outputs": [
        {
          "name": "stderr",
          "output_type": "stream",
          "text": [
            "/usr/local/lib/python3.7/dist-packages/statsmodels/tsa/base/tsa_model.py:219: ValueWarning: A date index has been provided, but it has no associated frequency information and so will be ignored when e.g. forecasting.\n",
            "  ' ignored when e.g. forecasting.', ValueWarning)\n"
          ]
        }
      ],
      "source": [
        "# Construct the model\n",
        "mod = sm.tsa.SARIMAX(endog, order=(1, 0, 0), trend='c')\n",
        "# Estimate the parameters\n",
        "res = mod.fit()\n",
        "\n",
        "#print(res.summary())"
      ]
    },
    {
      "cell_type": "code",
      "execution_count": null,
      "metadata": {
        "id": "VomfXjUcibzA"
      },
      "outputs": [],
      "source": [
        "# The default is to get a one-step-ahead forecast:\n",
        "#print(res.forecast())"
      ]
    },
    {
      "cell_type": "code",
      "execution_count": null,
      "metadata": {
        "colab": {
          "base_uri": "https://localhost:8080/"
        },
        "id": "kyyGQs6diliy",
        "outputId": "6831ef24-022d-4847-c402-e6c96f8a4283"
      },
      "outputs": [
        {
          "name": "stderr",
          "output_type": "stream",
          "text": [
            "/usr/local/lib/python3.7/dist-packages/statsmodels/tsa/base/tsa_model.py:576: ValueWarning: No supported index is available. Prediction results will be given with an integer index beginning at `start`.\n",
            "  ValueWarning)\n"
          ]
        }
      ],
      "source": [
        "# Here we construct a more complete results object.\n",
        "fcast_res1 = res.get_forecast()\n",
        "\n",
        "# Most results are collected in the `summary_frame` attribute.\n",
        "# Here we specify that we want a confidence level of 90%\n",
        "#print(fcast_res1.summary_frame(alpha=0.10))"
      ]
    },
    {
      "cell_type": "markdown",
      "metadata": {
        "id": "Dm7_jXeAg6my"
      },
      "source": [
        "**Plotting the data, forecasts, and confidence intervals**\n",
        "Often it is useful to plot the data, the forecasts, and the confidence intervals. There are many ways to do this, but here’s one example\n",
        "**Forecast of rain in 11 hrs 28 mts 491 seconds**"
      ]
    },
    {
      "cell_type": "code",
      "execution_count": null,
      "metadata": {
        "colab": {
          "base_uri": "https://localhost:8080/",
          "height": 351
        },
        "id": "e35wyuSMjpg0",
        "outputId": "1a8c5573-28b1-4a05-a6db-691cbe1764bf"
      },
      "outputs": [
        {
          "data": {
            "text/plain": [
              "<matplotlib.axes._subplots.AxesSubplot at 0x7fe39cfdf510>"
            ]
          },
          "execution_count": 18,
          "metadata": {},
          "output_type": "execute_result"
        },
        {
          "data": {
            "image/png": "[encoded data removed]",
            "text/plain": [
              "<Figure size 1080x360 with 1 Axes>"
            ]
          },
          "metadata": {
            "needs_background": "light"
          },
          "output_type": "display_data"
        }
      ],
      "source": [
        "fig, ax = plt.subplots(figsize=(15, 5))\n",
        "\n",
        "# Plot the data (here we are subsetting it to get a better look at the forecasts)\n",
        "endog.loc['1970-01-20 00:11:28.491':].plot(ax=ax)\n",
        "\n",
        "# Construct the forecasts\n",
        "#fcast = res.get_forecast('1970-01-20 00:12:41.491').summary_frame()\n",
        "#fcast['mean'].plot(ax=ax, style='k--')\n",
        "#ax.fill_between(fcast.index, fcast['mean_ci_lower'], fcast['mean_ci_upper'], color='k', alpha=0.1);"
      ]
    },
    {
      "cell_type": "code",
      "execution_count": null,
      "metadata": {
        "colab": {
          "base_uri": "https://localhost:8080/"
        },
        "id": "IStaSsYQ-q-x",
        "outputId": "d9576724-3fba-49d9-abfc-d3fda60dbe20"
      },
      "outputs": [
        {
          "name": "stderr",
          "output_type": "stream",
          "text": [
            "/usr/local/lib/python3.7/dist-packages/statsmodels/tsa/base/tsa_model.py:219: ValueWarning: A date index has been provided, but it has no associated frequency information and so will be ignored when e.g. forecasting.\n",
            "  ' ignored when e.g. forecasting.', ValueWarning)\n"
          ]
        },
        {
          "name": "stdout",
          "output_type": "stream",
          "text": [
            "intercept    0.285892\n",
            "ar.L1        0.763712\n",
            "sigma2       3.924688\n",
            "dtype: float64\n"
          ]
        }
      ],
      "source": [
        "# Step 1: fit model parameters w/ training sample\n",
        "training_obs = int(len(endog) * 0.8)\n",
        "\n",
        "training_endog = endog[:training_obs]\n",
        "training_mod = sm.tsa.SARIMAX(\n",
        "    training_endog, order=(1, 0, 0), trend='c')\n",
        "training_res = training_mod.fit()\n",
        "\n",
        "# Print the estimated parameters\n",
        "print(training_res.params)"
      ]
    },
    {
      "cell_type": "code",
      "execution_count": null,
      "metadata": {
        "colab": {
          "base_uri": "https://localhost:8080/"
        },
        "id": "FyXh4ILX72i3",
        "outputId": "728f7640-6e31-433a-d616-0c4e814fe73a"
      },
      "outputs": [
        {
          "data": {
            "text/plain": [
              "TIMESTAMP\n",
              "1970-01-20 00:12:41.520    1.147212\n",
              "1970-01-20 00:12:41.520    1.147212\n",
              "1970-01-20 00:12:41.520    1.147212\n",
              "1970-01-20 00:12:41.520    1.147212\n",
              "1970-01-20 00:12:41.520    1.147212\n",
              "                             ...   \n",
              "1970-01-20 00:11:28.491    0.000000\n",
              "1970-01-20 00:11:28.491    0.000000\n",
              "1970-01-20 00:11:28.491    0.000000\n",
              "1970-01-20 00:11:28.491    0.000000\n",
              "1970-01-20 00:11:28.491    0.000000\n",
              "Name: M_RAIN_PERCENTAGE, Length: 3572328, dtype: float64"
            ]
          },
          "execution_count": 15,
          "metadata": {},
          "output_type": "execute_result"
        }
      ],
      "source": [
        "endog"
      ]
    }
  ],
  "metadata": {
    "accelerator": "TPU",
    "colab": {
      "collapsed_sections": [],
      "name": "WeatherForecast_SARIMA.ipynb",
      "provenance": []
    },
    "kernelspec": {
      "display_name": "Python 3",
      "name": "python3"
    },
    "language_info": {
      "name": "python"
    }
  },
  "nbformat": 4,
  "nbformat_minor": 0
}
